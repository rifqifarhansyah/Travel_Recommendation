{
 "cells": [
  {
   "cell_type": "code",
   "execution_count": 2,
   "metadata": {},
   "outputs": [],
   "source": [
    "import pandas as pd\n",
    "import random"
   ]
  },
  {
   "cell_type": "code",
   "execution_count": 3,
   "metadata": {},
   "outputs": [],
   "source": [
    "df = pd.read_csv(\"worldcities.csv\")"
   ]
  },
  {
   "cell_type": "code",
   "execution_count": 23,
   "metadata": {},
   "outputs": [],
   "source": [
    "asean_countries = [\n",
    "    \"Brunei\", \"Cambodia\", \"Indonesia\", \"Laos\", \"Malaysia\", \n",
    "    \"Burma\", \"Philippines\", \"Singapore\", \"Thailand\", \"Vietnam\",\n",
    "    \"Timor-Leste\"\n",
    "]\n",
    "\n",
    "filtered_df = df[df['country'].isin(asean_countries)]"
   ]
  },
  {
   "cell_type": "code",
   "execution_count": null,
   "metadata": {},
   "outputs": [],
   "source": [
    "templates = [\n",
    "    \"I want to travel from {from_city} to {to_city}.\",\n",
    "    \"Can you book a ticket from {from_city} to {to_city}?\",\n",
    "    \"The flight from {from_city} to {to_city} is at 9 AM.\",\n",
    "    \"Driving from {from_city} to {to_city} will take about 6 hours.\",\n",
    "    \"Is there a train running from {from_city} to {to_city} tomorrow?\",\n",
    "    \"Moving from {from_city} to {to_city} is on my schedule.\",\n",
    "    \"I'll go from {from_city} to {to_city} next week.\",\n",
    "    \"What's the fastest way to get from {from_city} to {to_city}?\",\n",
    "    \"Are there buses available from {from_city} to {to_city} today?\",\n",
    "    \"I am planning a road trip from {from_city} to {to_city}.\",\n",
    "    \"How much does a flight from {from_city} to {to_city} cost?\",\n",
    "    \"Traveling from {from_city} to {to_city} has always been on my bucket list.\",\n",
    "    \"Can you recommend the best route from {from_city} to {to_city}?\",\n",
    "    \"How long does it take to travel from {from_city} to {to_city} by car?\",\n",
    "    \"I'm looking for flights from {from_city} to {to_city} for this weekend.\",\n",
    "    \"Is there any ferry service from {from_city} to {to_city}?\",\n",
    "    \"The train journey from {from_city} to {to_city} is so scenic!\",\n",
    "    \"I'll need a rental car to drive from {from_city} to {to_city}.\",\n",
    "    \"What's the cheapest way to get from {from_city} to {to_city}?\",\n",
    "    \"I heard there's a new highway from {from_city} to {to_city}.\",\n",
    "    \"Could you tell me the distance from {from_city} to {to_city}?\",\n",
    "    \"Is it possible to cycle from {from_city} to {to_city}?\",\n",
    "    \"Can we stop by a rest area while traveling from {from_city} to {to_city}?\",\n",
    "    \"The weather is perfect for a drive from {from_city} to {to_city}.\",\n",
    "    \"I need to find an alternative route from {from_city} to {to_city} due to traffic.\",\n",
    "    \"What's the best time of year to travel from {from_city} to {to_city}?\",\n",
    "    \"Can we split the travel costs for going from {from_city} to {to_city}?\",\n",
    "    \"Do I need a visa to travel from {from_city} to {to_city}?\",\n",
    "    \"I'm relocating from {from_city} to {to_city} for work.\",\n",
    "    \"I'm leaving from {from_city}.\",\n",
    "    \"I'm arriving in {to_city}.\",\n",
    "    \"Is there a flight from {from_city} today?\",\n",
    "    \"What's the weather like in {to_city}?\",\n",
    "    \"I'm staying in {to_city} for the weekend.\",\n",
    "    \"I'm traveling from {from_city} soon.\",\n",
    "    \"Can you recommend a hotel in {to_city}?\",\n",
    "    \"How far is {from_city} from here?\",\n",
    "    \"I need to get from {from_city} to the airport.\",\n",
    "    \"I'm planning to move to {to_city}.\",\n",
    "    \"What's the best way to get to {to_city}?\",\n",
    "    \"I've never been to {to_city} before.\",\n",
    "    \"I'm looking for transportation from {from_city}.\",\n",
    "    \"Do you have any recommendations for restaurants in {to_city}?\",\n",
    "    \"I'm thinking of visiting {to_city} next month.\",\n",
    "    \"How long does it take to get from {from_city} to the airport?\",\n",
    "    \"Is there a good shopping area in {to_city}?\",\n",
    "    \"I'm thinking about relocating to {to_city}.\",\n",
    "    \"How can I get to {from_city} from here?\",\n",
    "    \"What's the best time to visit {to_city}?\",\n",
    "    \"I'm taking a flight from {from_city} to {to_city}.\",\n",
    "    \"Do I need a visa to travel to {to_city}?\",\n",
    "    \"I'll be in {to_city} for a business trip next week.\",\n",
    "    \"I'm visiting family in {from_city} this weekend.\"\n",
    "]"
   ]
  },
  {
   "cell_type": "code",
   "execution_count": 37,
   "metadata": {},
   "outputs": [
    {
     "name": "stdout",
     "output_type": "stream",
     "text": [
      "['I am planning a road trip from {from_city} to {to_city}.', 'Moving from {from_city} to {to_city} is on my schedule.', 'Can we split the travel costs for going from {from_city} to {to_city}?', \"I'm looking for flights from {from_city} to {to_city} for this weekend.\", \"I'll go from {from_city} to {to_city} next week.\", 'I want to travel from {from_city} to {to_city}.', 'Can we stop by a rest area while traveling from {from_city} to {to_city}?', 'Can you book a ticket from {from_city} to {to_city}?', 'Traveling from {from_city} to {to_city} has always been on my bucket list.', 'I heard there’s a new highway from {from_city} to {to_city}.', 'The weather is perfect for a drive from {from_city} to {to_city}.', 'Are there buses available from {from_city} to {to_city} today?', 'Could you tell me the distance from {from_city} to {to_city}?', 'What’s the best time of year to travel from {from_city} to {to_city}?', 'The flight from {from_city} to {to_city} is at 9 AM.', 'How long does it take to travel from {from_city} to {to_city} by car?', 'Can you recommend the best route from {from_city} to {to_city}?', 'Is there any ferry service from {from_city} to {to_city}?', 'Driving from {from_city} to {to_city} will take about 6 hours.', \"I'll need a rental car to drive from {from_city} to {to_city}.\", \"What's the cheapest way to get from {from_city} to {to_city}?\", 'I need to find an alternative route from {from_city} to {to_city} due to traffic.', 'The train journey from {from_city} to {to_city} is so scenic!', 'I’m relocating from {from_city} to {to_city} for work.', 'How much does a flight from {from_city} to {to_city} cost?', 'Do I need a visa to travel from {from_city} to {to_city}?', 'Is it possible to cycle from {from_city} to {to_city}?', \"What's the fastest way to get from {from_city} to {to_city}?\", 'Is there a train running from {from_city} to {to_city} tomorrow?']\n"
     ]
    }
   ],
   "source": [
    "random.shuffle(templates)\n",
    "print(templates)"
   ]
  },
  {
   "cell_type": "code",
   "execution_count": null,
   "metadata": {},
   "outputs": [
    {
     "data": {
      "text/plain": [
       "'Tangerang'"
      ]
     },
     "execution_count": 27,
     "metadata": {},
     "output_type": "execute_result"
    }
   ],
   "source": [
    "cities = filtered_df.sample(n=2)\n",
    "cities[\"city\"].iloc[0]"
   ]
  },
  {
   "cell_type": "code",
   "execution_count": 40,
   "metadata": {},
   "outputs": [],
   "source": [
    "data = []\n",
    "for _ in range(1000):\n",
    "    cities = filtered_df.sample(n=2)\n",
    "    if(cities[\"city\"].iloc[0] == cities[\"city\"].iloc[1]):\n",
    "        continue\n",
    "    template = random.choice(templates)\n",
    "    sentence = template.format(from_city=cities[\"city\"].iloc[0], to_city=cities[\"city\"].iloc[1])\n",
    "    data.append({\n",
    "        \"sentence\": sentence,\n",
    "        \"entities\": [\n",
    "            {\"entity\": \"FROM_CITY\", \"value\": cities[\"city\"].iloc[0], \"start\": sentence.index(cities[\"city\"].iloc[0]), \"end\": sentence.index(cities[\"city\"].iloc[0]) + len(cities[\"city\"].iloc[0])},\n",
    "            {\"entity\": \"TO_CITY\", \"value\": cities[\"city\"].iloc[1], \"start\": sentence.index(cities[\"city\"].iloc[1]), \"end\": sentence.index(cities[\"city\"].iloc[1]) + len(cities[\"city\"].iloc[1])}\n",
    "        ]\n",
    "    })\n",
    "\n",
    "df = pd.DataFrame(data)"
   ]
  },
  {
   "cell_type": "code",
   "execution_count": 33,
   "metadata": {},
   "outputs": [
    {
     "data": {
      "text/html": [
       "<div>\n",
       "<style scoped>\n",
       "    .dataframe tbody tr th:only-of-type {\n",
       "        vertical-align: middle;\n",
       "    }\n",
       "\n",
       "    .dataframe tbody tr th {\n",
       "        vertical-align: top;\n",
       "    }\n",
       "\n",
       "    .dataframe thead th {\n",
       "        text-align: right;\n",
       "    }\n",
       "</style>\n",
       "<table border=\"1\" class=\"dataframe\">\n",
       "  <thead>\n",
       "    <tr style=\"text-align: right;\">\n",
       "      <th></th>\n",
       "      <th>sentence</th>\n",
       "      <th>entities</th>\n",
       "    </tr>\n",
       "  </thead>\n",
       "  <tbody>\n",
       "    <tr>\n",
       "      <th>0</th>\n",
       "      <td>I am planning a road trip from Ban Ratchakrut ...</td>\n",
       "      <td>[{'entity': 'FROM_CITY', 'value': 'Ban Ratchak...</td>\n",
       "    </tr>\n",
       "    <tr>\n",
       "      <th>1</th>\n",
       "      <td>Driving from Bắc Ninh to Meiktila will take ab...</td>\n",
       "      <td>[{'entity': 'FROM_CITY', 'value': 'Bắc Ninh', ...</td>\n",
       "    </tr>\n",
       "    <tr>\n",
       "      <th>2</th>\n",
       "      <td>I’m relocating from Santo Tomas to Taungup for...</td>\n",
       "      <td>[{'entity': 'FROM_CITY', 'value': 'Santo Tomas...</td>\n",
       "    </tr>\n",
       "    <tr>\n",
       "      <th>3</th>\n",
       "      <td>Can we stop by a rest area while traveling fro...</td>\n",
       "      <td>[{'entity': 'FROM_CITY', 'value': 'Phra Pradae...</td>\n",
       "    </tr>\n",
       "    <tr>\n",
       "      <th>4</th>\n",
       "      <td>I want to travel from Padre Burgos to Mandaue ...</td>\n",
       "      <td>[{'entity': 'FROM_CITY', 'value': 'Padre Burgo...</td>\n",
       "    </tr>\n",
       "  </tbody>\n",
       "</table>\n",
       "</div>"
      ],
      "text/plain": [
       "                                            sentence  \\\n",
       "0  I am planning a road trip from Ban Ratchakrut ...   \n",
       "1  Driving from Bắc Ninh to Meiktila will take ab...   \n",
       "2  I’m relocating from Santo Tomas to Taungup for...   \n",
       "3  Can we stop by a rest area while traveling fro...   \n",
       "4  I want to travel from Padre Burgos to Mandaue ...   \n",
       "\n",
       "                                            entities  \n",
       "0  [{'entity': 'FROM_CITY', 'value': 'Ban Ratchak...  \n",
       "1  [{'entity': 'FROM_CITY', 'value': 'Bắc Ninh', ...  \n",
       "2  [{'entity': 'FROM_CITY', 'value': 'Santo Tomas...  \n",
       "3  [{'entity': 'FROM_CITY', 'value': 'Phra Pradae...  \n",
       "4  [{'entity': 'FROM_CITY', 'value': 'Padre Burgo...  "
      ]
     },
     "execution_count": 33,
     "metadata": {},
     "output_type": "execute_result"
    }
   ],
   "source": [
    "df.head()"
   ]
  },
  {
   "cell_type": "code",
   "execution_count": 41,
   "metadata": {},
   "outputs": [],
   "source": [
    "df.to_json(\"dev.json\", orient=\"records\", indent=2)"
   ]
  }
 ],
 "metadata": {
  "kernelspec": {
   "display_name": "Python 3",
   "language": "python",
   "name": "python3"
  },
  "language_info": {
   "codemirror_mode": {
    "name": "ipython",
    "version": 3
   },
   "file_extension": ".py",
   "mimetype": "text/x-python",
   "name": "python",
   "nbconvert_exporter": "python",
   "pygments_lexer": "ipython3",
   "version": "3.12.0"
  }
 },
 "nbformat": 4,
 "nbformat_minor": 2
}
